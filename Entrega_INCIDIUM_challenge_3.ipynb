{
  "cells": [
    {
      "cell_type": "code",
      "execution_count": 1,
      "metadata": {
        "id": "tsbHUucpgmg9"
      },
      "outputs": [],
      "source": [
        "import numpy as np\n",
        "import pandas as pd\n",
        "import matplotlib.pyplot as plt\n",
        "import math\n",
        "\n",
        "import keras\n",
        "from keras import layers\n",
        "\n",
        "from sklearn import preprocessing\n",
        "from sklearn.model_selection import train_test_split\n",
        "from imblearn.over_sampling import SMOTE"
      ]
    },
    {
      "attachments": {},
      "cell_type": "markdown",
      "metadata": {
        "id": "65noNruOi736"
      },
      "source": [
        "# TRATAMENTO DOS DADOS E TREINAMENTO DA REDE NEURAL\n",
        "---\n",
        "\n"
      ]
    },
    {
      "cell_type": "markdown",
      "metadata": {
        "id": "r53RgMiWi737"
      },
      "source": [
        "Rede neural em python que será treinada e depois testada.\n",
        "\n",
        "Tarefa de CLASSIFICAÇÃO, com verbos como se fosse de PREDIÇÃO."
      ]
    },
    {
      "attachments": {},
      "cell_type": "markdown",
      "metadata": {},
      "source": [
        "FUNÇÕES ESSENCIAIS"
      ]
    },
    {
      "cell_type": "code",
      "execution_count": 2,
      "metadata": {
        "id": "sABu5F6X-XVA"
      },
      "outputs": [],
      "source": [
        "def norm(x, dbStats):\n",
        "  return ((x-dbStats['min'])/(dbStats['max']-dbStats['min']))\n",
        "\n",
        "def db_adjustments(db):\n",
        "  db = db.dropna()\n",
        "  type = db.pop(\"type\")\n",
        "  db.pop(\"udi\")\n",
        "  db.pop(\"product_id\")\n",
        "  db['L'] = (type == 'L')*1.0\n",
        "  db['M'] = (type == 'M')*1.0\n",
        "  db['H'] = (type == 'H')*1.0\n",
        "  return db\n",
        "\n",
        "def convertClasses(db, labels, lev):\n",
        "  le = preprocessing.LabelEncoder()\n",
        "  lev.append(le)\n",
        "  le.fit(db['failure_type'])\n",
        "  db['failure_type'] = le.transform(db['failure_type'])\n",
        "  dbLabels = db[\"failure_type\"]\n",
        "  labels.append(dbLabels)\n",
        "  db.pop(\"failure_type\")"
      ]
    },
    {
      "attachments": {},
      "cell_type": "markdown",
      "metadata": {},
      "source": [
        "TREINAMENTO DA REDE\n",
        "\n",
        "\n",
        "Divide-se o BD de Treino em o banco real de Treinamento e um banco falso de teste, para verificar a eficácia do teste antes de utilizar o BD de Teste oficial."
      ]
    },
    {
      "cell_type": "code",
      "execution_count": 3,
      "metadata": {
        "id": "wDvHgRGUi737"
      },
      "outputs": [],
      "source": [
        "db_1 = pd.read_csv('desafio_manutencao_preditiva_treino.csv')\n",
        "\n",
        "\n",
        "dbTreino, test = train_test_split(db_1, test_size=0.2)\n",
        "labels = []  # Armazena as labels de uma classe que contém labels. Referente a Treino e test.\n",
        "lev = []  # Armazena Labels Encoders criados ao longo do código.  "
      ]
    },
    {
      "attachments": {},
      "cell_type": "markdown",
      "metadata": {},
      "source": [
        "Para trabalhar com os dados de forma adequada, são realizadas duas operações empacotadas em funções:\n",
        "- db_adjustments remove colunas que não contribuem com a classificação (uid, product_type, )\n",
        "  > A coluna type é convertida em 3 colunas de informação binária.\n",
        "\n",
        "- convertClasses realiza a remoção dos rótulos de classe, bem como utiliza a biblioteca LabelEncoder para converter as Strings referentes a cada classe em números, como exposto abaixo."
      ]
    },
    {
      "cell_type": "code",
      "execution_count": 4,
      "metadata": {},
      "outputs": [],
      "source": [
        "dbTreino = db_adjustments(dbTreino)   # train and val adjusted and non-significant columns removed\n",
        "\n",
        "convertClasses(dbTreino, labels, lev)"
      ]
    },
    {
      "attachments": {},
      "cell_type": "markdown",
      "metadata": {},
      "source": [
        "Ao analisar a distribuição de dados do dataset de acordo com as classes, é possível verificar que há muitos dados da classe 1: No Failure. \n",
        "\n",
        "Com isso, a operação de treinamento será afetada pelo desbalanceamento de dados entre as classes. Uma técnica muito popular e eficiente em situações assim, é de utilizar o recurso SMOTE para gerar dados similares aos dados de cada classe em desvantagem, e assim criar um dataset equilibrado."
      ]
    },
    {
      "cell_type": "code",
      "execution_count": 5,
      "metadata": {
        "id": "Ybx-NyoHIYYa"
      },
      "outputs": [],
      "source": [
        "# SMOTE: Equilibrate labels on dataset.\n",
        "sm = SMOTE(random_state = 2)\n",
        "dbTreino_eq, labelsTreino_res = sm.fit_resample(dbTreino, labels[0])"
      ]
    },
    {
      "cell_type": "code",
      "execution_count": 6,
      "metadata": {
        "colab": {
          "base_uri": "https://localhost:8080/",
          "height": 300
        },
        "id": "024iAF0hi739",
        "outputId": "39cd74f7-b788-4734-bb77-3d2eecc9fdd6"
      },
      "outputs": [
        {
          "data": {
            "text/html": [
              "<div>\n",
              "<style scoped>\n",
              "    .dataframe tbody tr th:only-of-type {\n",
              "        vertical-align: middle;\n",
              "    }\n",
              "\n",
              "    .dataframe tbody tr th {\n",
              "        vertical-align: top;\n",
              "    }\n",
              "\n",
              "    .dataframe thead th {\n",
              "        text-align: right;\n",
              "    }\n",
              "</style>\n",
              "<table border=\"1\" class=\"dataframe\">\n",
              "  <thead>\n",
              "    <tr style=\"text-align: right;\">\n",
              "      <th></th>\n",
              "      <th>count</th>\n",
              "      <th>mean</th>\n",
              "      <th>std</th>\n",
              "      <th>min</th>\n",
              "      <th>25%</th>\n",
              "      <th>50%</th>\n",
              "      <th>75%</th>\n",
              "      <th>max</th>\n",
              "    </tr>\n",
              "  </thead>\n",
              "  <tbody>\n",
              "    <tr>\n",
              "      <th>air_temperature_k</th>\n",
              "      <td>30882.0</td>\n",
              "      <td>300.479997</td>\n",
              "      <td>1.789717</td>\n",
              "      <td>295.3</td>\n",
              "      <td>299.139145</td>\n",
              "      <td>300.483308</td>\n",
              "      <td>302.068406</td>\n",
              "      <td>304.5</td>\n",
              "    </tr>\n",
              "    <tr>\n",
              "      <th>process_temperature_k</th>\n",
              "      <td>30882.0</td>\n",
              "      <td>310.215937</td>\n",
              "      <td>1.250229</td>\n",
              "      <td>305.8</td>\n",
              "      <td>309.300000</td>\n",
              "      <td>310.351452</td>\n",
              "      <td>311.100000</td>\n",
              "      <td>313.8</td>\n",
              "    </tr>\n",
              "    <tr>\n",
              "      <th>rotational_speed_rpm</th>\n",
              "      <td>30882.0</td>\n",
              "      <td>1500.935173</td>\n",
              "      <td>282.367136</td>\n",
              "      <td>1168.0</td>\n",
              "      <td>1355.000000</td>\n",
              "      <td>1411.000000</td>\n",
              "      <td>1549.000000</td>\n",
              "      <td>2874.0</td>\n",
              "    </tr>\n",
              "    <tr>\n",
              "      <th>torque_nm</th>\n",
              "      <td>30882.0</td>\n",
              "      <td>46.760752</td>\n",
              "      <td>14.576488</td>\n",
              "      <td>4.2</td>\n",
              "      <td>36.874343</td>\n",
              "      <td>48.613569</td>\n",
              "      <td>56.842985</td>\n",
              "      <td>76.2</td>\n",
              "    </tr>\n",
              "    <tr>\n",
              "      <th>tool_wear_min</th>\n",
              "      <td>30882.0</td>\n",
              "      <td>143.474095</td>\n",
              "      <td>69.559616</td>\n",
              "      <td>0.0</td>\n",
              "      <td>86.000000</td>\n",
              "      <td>162.000000</td>\n",
              "      <td>206.000000</td>\n",
              "      <td>251.0</td>\n",
              "    </tr>\n",
              "    <tr>\n",
              "      <th>L</th>\n",
              "      <td>30882.0</td>\n",
              "      <td>0.645412</td>\n",
              "      <td>0.411436</td>\n",
              "      <td>0.0</td>\n",
              "      <td>0.205774</td>\n",
              "      <td>0.906624</td>\n",
              "      <td>1.000000</td>\n",
              "      <td>1.0</td>\n",
              "    </tr>\n",
              "    <tr>\n",
              "      <th>M</th>\n",
              "      <td>30882.0</td>\n",
              "      <td>0.250692</td>\n",
              "      <td>0.375603</td>\n",
              "      <td>0.0</td>\n",
              "      <td>0.000000</td>\n",
              "      <td>0.000000</td>\n",
              "      <td>0.505387</td>\n",
              "      <td>1.0</td>\n",
              "    </tr>\n",
              "    <tr>\n",
              "      <th>H</th>\n",
              "      <td>30882.0</td>\n",
              "      <td>0.103896</td>\n",
              "      <td>0.266121</td>\n",
              "      <td>0.0</td>\n",
              "      <td>0.000000</td>\n",
              "      <td>0.000000</td>\n",
              "      <td>0.000000</td>\n",
              "      <td>1.0</td>\n",
              "    </tr>\n",
              "  </tbody>\n",
              "</table>\n",
              "</div>"
            ],
            "text/plain": [
              "                         count         mean         std     min          25%  \\\n",
              "air_temperature_k      30882.0   300.479997    1.789717   295.3   299.139145   \n",
              "process_temperature_k  30882.0   310.215937    1.250229   305.8   309.300000   \n",
              "rotational_speed_rpm   30882.0  1500.935173  282.367136  1168.0  1355.000000   \n",
              "torque_nm              30882.0    46.760752   14.576488     4.2    36.874343   \n",
              "tool_wear_min          30882.0   143.474095   69.559616     0.0    86.000000   \n",
              "L                      30882.0     0.645412    0.411436     0.0     0.205774   \n",
              "M                      30882.0     0.250692    0.375603     0.0     0.000000   \n",
              "H                      30882.0     0.103896    0.266121     0.0     0.000000   \n",
              "\n",
              "                               50%          75%     max  \n",
              "air_temperature_k       300.483308   302.068406   304.5  \n",
              "process_temperature_k   310.351452   311.100000   313.8  \n",
              "rotational_speed_rpm   1411.000000  1549.000000  2874.0  \n",
              "torque_nm                48.613569    56.842985    76.2  \n",
              "tool_wear_min           162.000000   206.000000   251.0  \n",
              "L                         0.906624     1.000000     1.0  \n",
              "M                         0.000000     0.505387     1.0  \n",
              "H                         0.000000     0.000000     1.0  "
            ]
          },
          "execution_count": 6,
          "metadata": {},
          "output_type": "execute_result"
        }
      ],
      "source": [
        "dbTreino_stats = dbTreino_eq.describe()\n",
        "dbTreino_stats = dbTreino_stats.transpose()\n",
        "dbTreino_norm = norm(dbTreino_eq, dbTreino_stats)\n",
        "dbTreino_stats"
      ]
    },
    {
      "cell_type": "code",
      "execution_count": 7,
      "metadata": {
        "id": "I9gSdmIgi73-"
      },
      "outputs": [],
      "source": [
        "def step_decay(epoch):\n",
        "\tinitial_lrate = 0.01\n",
        "\tdrop = 0.5\n",
        "\tepochs_drop = 10.0\n",
        "\tlrate = initial_lrate * math.pow(drop,  \n",
        "\t\t\t\t\tmath.floor((1+epoch)/epochs_drop))\n",
        "\treturn lrate\n",
        "\n",
        "def build_model():\n",
        "\tmodel = keras.Sequential([\n",
        "\t\tlayers.Dense(128, activation='relu', input_shape=[len(dbTreino_eq.keys())]),\n",
        "\t\tlayers.Dense(128, activation='relu'),\n",
        "\t\tlayers.Dense(1)\n",
        "\t])\n",
        "\tmodel.compile(\n",
        "\t\t\t\t\t\t\t\tloss='mse',\n",
        "\t\t\t\t\t\t\t\t\toptimizer=keras.optimizers.Adam(learning_rate=1e-2),\n",
        "\t\t\t\t\t\t\t\tmetrics=['mae', 'mse', 'accuracy'])\n",
        "\treturn model\n",
        "\n",
        "class PrintDot(keras.callbacks.Callback):\n",
        "  def on_epoch_end(self, epoch, logs):\n",
        "    if epoch % 100 == 0: print('')\n",
        "    print('.', end='')\n",
        "\n",
        "def plot_history(history):\n",
        "\thist = pd.DataFrame(history.history)\n",
        "\thist['epoch'] = history.epoch\n",
        "\t\n",
        "\tplt.figure()\n",
        "\tplt.xlabel('Epoch')\n",
        "\tplt.ylabel('Mean Abs Error [MPG]')\n",
        "\tplt.plot(hist['epoch'], hist['mae'],\n",
        "\t\t\t\t\t\tlabel='Train Error')\n",
        "\tplt.plot(hist['epoch'], hist['val_mae'],\n",
        "\t\t\t\t\t\tlabel = 'Val Error')\n",
        "\tplt.legend()\n",
        "\n",
        "\tplt.figure()\n",
        "\tplt.xlabel('Epoch')\n",
        "\tplt.ylabel('Mean Square Error [$MPG^2$]')\n",
        "\tplt.plot(hist['epoch'], hist['mse'],\n",
        "\t\t\t\t\t\tlabel='Train Error')\n",
        "\tplt.plot(hist['epoch'], hist['val_mse'],\n",
        "\t\t\t\t\t\tlabel = 'Val Error')\n",
        "\tplt.legend()\n",
        "\tplt.show()"
      ]
    },
    {
      "cell_type": "code",
      "execution_count": 8,
      "metadata": {
        "colab": {
          "base_uri": "https://localhost:8080/"
        },
        "id": "KYpG5nfvi73-",
        "outputId": "3e72c323-f575-4fde-d9b0-accc6f21b4ea"
      },
      "outputs": [
        {
          "name": "stdout",
          "output_type": "stream",
          "text": [
            "1/1 [==============================] - 2s 2s/step\n"
          ]
        }
      ],
      "source": [
        "model = build_model()\n",
        "example_batch = dbTreino_norm[:10]\n",
        "example_result = model.predict(example_batch)"
      ]
    },
    {
      "cell_type": "code",
      "execution_count": 9,
      "metadata": {
        "colab": {
          "base_uri": "https://localhost:8080/",
          "height": 593
        },
        "id": "S61_ggbei73-",
        "outputId": "f71edd6e-f20d-4811-9a11-136e1827c0c7"
      },
      "outputs": [
        {
          "name": "stdout",
          "output_type": "stream",
          "text": [
            "\n",
            "....................................................................................................\n",
            "..........................."
          ]
        },
        {
          "data": {
            "image/png": "[encoded data removed]",
            "text/plain": [
              "<Figure size 640x480 with 1 Axes>"
            ]
          },
          "metadata": {},
          "output_type": "display_data"
        },
        {
          "data": {
            "image/png": "[encoded data removed]",
            "text/plain": [
              "<Figure size 640x480 with 1 Axes>"
            ]
          },
          "metadata": {},
          "output_type": "display_data"
        }
      ],
      "source": [
        "EPOCHS = 500\n",
        "early_stop = keras.callbacks.EarlyStopping(monitor='val_loss', patience=80)\n",
        "\n",
        "lrate = keras.callbacks.LearningRateScheduler(step_decay)\n",
        "history = model.fit( dbTreino_norm, labelsTreino_res, epochs=EPOCHS,\n",
        "                    validation_split = 0.15, verbose=0, callbacks=[early_stop, PrintDot(), lrate])\n",
        "\n",
        "plot_history(history)"
      ]
    },
    {
      "attachments": {},
      "cell_type": "markdown",
      "metadata": {
        "id": "J2shNqSoRIOE"
      },
      "source": [
        "# VALIDAÇÃO MANUAL: BANCO DE TESTE FAKE"
      ]
    },
    {
      "attachments": {},
      "cell_type": "markdown",
      "metadata": {},
      "source": [
        "20% dos dados de treinamento foram separados para serem utilizados como dados de teste, a fim de simular a situação do real banco de teste.\n",
        "\n",
        "A presença de labels permite obter uma acurácia."
      ]
    },
    {
      "cell_type": "code",
      "execution_count": 10,
      "metadata": {
        "colab": {
          "base_uri": "https://localhost:8080/"
        },
        "id": "DCq1RDhxRXhl",
        "outputId": "1aa7e4ca-d7af-4f5b-a0df-807e352f12a0"
      },
      "outputs": [
        {
          "name": "stdout",
          "output_type": "stream",
          "text": [
            "42/42 [==============================] - 0s 2ms/step\n",
            "42/42 [==============================] - 0s 2ms/step - loss: 0.3014 - mae: 0.1996 - mse: 0.3014 - accuracy: 0.9618\n"
          ]
        },
        {
          "data": {
            "text/plain": [
              "[0.3014449179172516,\n",
              " 0.19958491623401642,\n",
              " 0.3014449179172516,\n",
              " 0.9617691040039062]"
            ]
          },
          "execution_count": 10,
          "metadata": {},
          "output_type": "execute_result"
        }
      ],
      "source": [
        "test = db_adjustments(test)\n",
        "convertClasses(test, labels, lev)\n",
        "\n",
        "test_fake_norm = norm(test, dbTreino_stats)\n",
        "model.predict(test_fake_norm)\n",
        "\n",
        "test_fake_predict = model.evaluate(test_fake_norm, labels[1])\n",
        "test_fake_predict"
      ]
    },
    {
      "cell_type": "code",
      "execution_count": 11,
      "metadata": {},
      "outputs": [
        {
          "name": "stdout",
          "output_type": "stream",
          "text": [
            "Acurácia verificada de 96.177%.\n"
          ]
        }
      ],
      "source": [
        "print(\"Acurácia verificada de \" + str(round(test_fake_predict[3]*100, 3)) + \"%.\")"
      ]
    },
    {
      "cell_type": "code",
      "execution_count": null,
      "metadata": {},
      "outputs": [],
      "source": []
    },
    {
      "cell_type": "markdown",
      "metadata": {
        "id": "eSbBFbrHIGWw"
      },
      "source": [
        "# CHALLENGE 3 - TESTE"
      ]
    },
    {
      "cell_type": "code",
      "execution_count": 21,
      "metadata": {
        "id": "iEogsQOwIIis"
      },
      "outputs": [
        {
          "name": "stdout",
          "output_type": "stream",
          "text": [
            "105/105 [==============================] - 0s 3ms/step\n",
            "105/105 [==============================] - 0s 2ms/step\n"
          ]
        }
      ],
      "source": [
        "dbTeste = pd.read_csv('desafio_manutencao_preditiva_teste.csv')\n",
        "\n",
        "dbTeste = db_adjustments(dbTeste)\n",
        "dbTeste_norm = norm(dbTeste, dbTreino_stats)\n",
        "\n",
        "dbTeste_pred = model.predict(dbTeste_norm)\n",
        "test_predictions = model.predict(dbTeste_norm).flatten()"
      ]
    },
    {
      "cell_type": "code",
      "execution_count": 22,
      "metadata": {},
      "outputs": [
        {
          "name": "stderr",
          "output_type": "stream",
          "text": [
            "d:\\trab2\\ProcessosSel\\indicium-challenge-3\\venv\\lib\\site-packages\\sklearn\\preprocessing\\_label.py:155: DataConversionWarning: A column-vector y was passed when a 1d array was expected. Please change the shape of y to (n_samples, ), for example using ravel().\n",
            "  y = column_or_1d(y, warn=True)\n"
          ]
        }
      ],
      "source": [
        "## Convert from number to classes\n",
        "\n",
        "# 1: Round numbers\n",
        "predicted_classes_numbers = np.int_(np.round_(dbTeste_pred))\n",
        "\n",
        "# Evitar erros de arrendondamento\n",
        "predicted_classes_numbers [predicted_classes_numbers < 0] = 0\n",
        "predicted_classes_numbers [predicted_classes_numbers > 5] = 5\n",
        "\n",
        "# 2: Convert\n",
        "# Aplica a regra para converter de volta, definida no Label Encoder 1.\n",
        "predicted_classes = lev[0].inverse_transform(predicted_classes_numbers)"
      ]
    },
    {
      "cell_type": "code",
      "execution_count": 25,
      "metadata": {},
      "outputs": [
        {
          "data": {
            "text/html": [
              "<div>\n",
              "<style scoped>\n",
              "    .dataframe tbody tr th:only-of-type {\n",
              "        vertical-align: middle;\n",
              "    }\n",
              "\n",
              "    .dataframe tbody tr th {\n",
              "        vertical-align: top;\n",
              "    }\n",
              "\n",
              "    .dataframe thead th {\n",
              "        text-align: right;\n",
              "    }\n",
              "</style>\n",
              "<table border=\"1\" class=\"dataframe\">\n",
              "  <thead>\n",
              "    <tr style=\"text-align: right;\">\n",
              "      <th>rowNumber</th>\n",
              "      <th>predictedValues</th>\n",
              "    </tr>\n",
              "    <tr>\n",
              "      <th>rowNumber</th>\n",
              "      <th></th>\n",
              "    </tr>\n",
              "  </thead>\n",
              "  <tbody>\n",
              "    <tr>\n",
              "      <th>0</th>\n",
              "      <td>No Failure</td>\n",
              "    </tr>\n",
              "    <tr>\n",
              "      <th>1</th>\n",
              "      <td>No Failure</td>\n",
              "    </tr>\n",
              "    <tr>\n",
              "      <th>2</th>\n",
              "      <td>No Failure</td>\n",
              "    </tr>\n",
              "    <tr>\n",
              "      <th>3</th>\n",
              "      <td>No Failure</td>\n",
              "    </tr>\n",
              "    <tr>\n",
              "      <th>4</th>\n",
              "      <td>No Failure</td>\n",
              "    </tr>\n",
              "  </tbody>\n",
              "</table>\n",
              "</div>"
            ],
            "text/plain": [
              "rowNumber predictedValues\n",
              "rowNumber                \n",
              "0              No Failure\n",
              "1              No Failure\n",
              "2              No Failure\n",
              "3              No Failure\n",
              "4              No Failure"
            ]
          },
          "execution_count": 25,
          "metadata": {},
          "output_type": "execute_result"
        }
      ],
      "source": [
        "# len(test_predictions)\n",
        "# rowNumber = np.arange(len(test_predictions))\n",
        "# data = {'rowNumber': rowNumber , 'predictedValues': predicted_classes }\n",
        "# predicted = pd.DataFrame(data, columns=['rowNumber','predictedValues'])\n",
        "\n",
        "predicted = pd.DataFrame(predicted_classes, columns=['predictedValues'])\n",
        "predicted.index.name = 'rowNumber'\n",
        "predicted = predicted.rename_axis(index='rowNumber', columns=\"rowNumber\")\n",
        "predicted.head()"
      ]
    },
    {
      "cell_type": "code",
      "execution_count": 26,
      "metadata": {
        "id": "wULVxUjEINHc"
      },
      "outputs": [],
      "source": [
        "predicted.to_csv('predicted.csv')"
      ]
    }
  ],
  "metadata": {
    "colab": {
      "collapsed_sections": [
        "0UkIPmsegsh9",
        "Ddpw6SA4g0Us",
        "y3E3RKk3g0gb",
        "eSbBFbrHIGWw"
      ],
      "provenance": []
    },
    "kernelspec": {
      "display_name": "venv",
      "language": "python",
      "name": "python3"
    },
    "language_info": {
      "codemirror_mode": {
        "name": "ipython",
        "version": 3
      },
      "file_extension": ".py",
      "mimetype": "text/x-python",
      "name": "python",
      "nbconvert_exporter": "python",
      "pygments_lexer": "ipython3",
      "version": "3.8.10"
    },
    "vscode": {
      "interpreter": {
        "hash": "9499ea548d5300fc69dd0205d532469269674100c873b8c0be12750fec5e0afa"
      }
    }
  },
  "nbformat": 4,
  "nbformat_minor": 0
}
